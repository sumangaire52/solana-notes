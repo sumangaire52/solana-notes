{
 "cells": [
  {
   "cell_type": "markdown",
   "id": "5402f024-3461-4040-8cac-09f2821cac4b",
   "metadata": {},
   "source": [
    "# Chapter 1: Intro to Cryptography\n",
    "\n",
    "## Symmetric & Assymetric Cryptography\n",
    "Cryptography - The study of hiding information"
   ]
  },
  {
   "cell_type": "markdown",
   "id": "8eee840f-ec29-4461-989d-026f406c4a99",
   "metadata": {},
   "source": [
    "<b>Symmetric Cryptography-</b>  Where same keys are used to encrypt and decrypt information \\\n",
    "<b>Assymetric Cryptography-</b> Participants have pair of keys i.e <b> <i>keypairs</i> </b>. Each keypair consists of a <b><i>secret key</i></b> & <b><i>public key</i></b>\n",
    "<li><b>Encryption:</b> If it is encrypted with a public key, only the secret key from the same keypair can be used to read from it.</li>\n",
    "<li><b>Signatures:</b> If it is encrypted with a secret key, public key from the same keypair is used to prove the secret key holder signed it. </li>\n",
    "\n",
    "\n",
    "You can even use asymmetric cryptography to work out a good key for symmetric cryptography! This is called <b><i>key exchange</i></b>, where you use your public keys and the recipient's public key to come up with a 'session' key.\n",
    "\n",
    "Most common assymetric algorithms that we see today are variants are of ECC or RSA."
   ]
  },
  {
   "cell_type": "markdown",
   "id": "e656a283-be8a-40cc-939c-a9077a67c0b4",
   "metadata": {},
   "source": [
    "### Use cases of Assymetric Cryptography"
   ]
  },
  {
   "cell_type": "markdown",
   "id": "d324c070-978b-4c1f-bda4-4407b7513982",
   "metadata": {},
   "source": [
    "<ol>\n",
    "    <li>Bank uses the secret key inside the card to match it with the public key to sign the transaction</li>\n",
    "    <li>Passport gates can confirm the passport was not forged by matching the secret key of the passport with the country's public key</li>\n",
    "    <li>The messaging apps use key exchange to make a session</li>\n",
    "</ol>"
   ]
  },
  {
   "cell_type": "markdown",
   "id": "9441aae0-1826-49a5-96ee-7b80f27bdc11",
   "metadata": {},
   "source": [
    "### Solana uses public keys as addresses"
   ]
  },
  {
   "cell_type": "markdown",
   "id": "3c6c3c8f-187d-464b-a0ac-c45ae224af07",
   "metadata": {},
   "source": [
    "People participating in solana network have at least one keypair. In solana\n",
    "\n",
    "<li>\n",
    "    <b>public key</b> is used as an address that points to an account in Solana network.\n",
    "</li>\n",
    "<li>\n",
    "    <b>secret key</b> is used to verify authority over that keypair. If you have the secret key for an address, you control the tokens inside that address.\n",
    "</li>"
   ]
  },
  {
   "cell_type": "markdown",
   "id": "b6e3cef2-14df-431a-805d-126fe653bcfe",
   "metadata": {},
   "source": [
    "## Using <i>solana/web3.js</i> to generate keypair"
   ]
  },
  {
   "cell_type": "markdown",
   "id": "c2c5d526-8dfa-4684-aa4c-fb6cd2d99bd1",
   "metadata": {},
   "source": [
    "- create a directory named generate-keypair\n",
    "- install typescript, esrun, @solana/web3.js, @solana-developers/helpers\n",
    "- create a file named <i>generate-keypair.ts</i> and put the following code to it\n",
    "\n",
    "```javascript\n",
    "        import {Keypair} from \"@solana/web3.js\"\n",
    "        \n",
    "        const keypair = Keypair.generate()\n",
    "        console.log(\"Public Key: \", keypair.publicKey.toBase58())\n",
    "        console.log(\"Secret Key: \", keypair.secretKey)\n",
    "```\n",
    "- we should never expose secret key so it is a good practice to load it from the environment\n",
    "\n",
    "```javascript\n",
    "        import \"dotenv/config\"\n",
    "        import {getKeypairFromEnvironment} from \"@solana-developers/helpers\"\n",
    "        \n",
    "        const keypair = getKeypairFromEnvironment[\"SECRET_KEY\"]\n",
    "        console.log(\"Public Key: \", keypair.publicKey.toBase58())\n",
    "        console.log(\"Secret Key: \", keypair.secretKey)\n",
    "```\n",
    "\n",
    "- Run <code><i>npx esrun generate-keypair.ts</i></code>"
   ]
  },
  {
   "cell_type": "markdown",
   "id": "02ce0da0-0900-4adb-b196-c994aff76d12",
   "metadata": {},
   "source": [
    "### Chapter 1 Summary\n",
    "\n",
    "- A keypair is a matching pair of public key and secret key.\n",
    "- The public key is used as an “address” that points to an account on the Solana network. A public key can be shared with anyone.\n",
    "- The secret key is used to verify authority over the account. As the name suggests, you should always keep secret keys secret.\n",
    "- @solana/web3.js provides helper functions for creating a brand new keypair, or for constructing a keypair using an existing secret key."
   ]
  },
  {
   "cell_type": "markdown",
   "id": "d2401083-d075-45a6-9861-652f1afed3d8",
   "metadata": {},
   "source": [
    "# Chapter 2: Reading Data From The Solana Network"
   ]
  },
  {
   "cell_type": "markdown",
   "id": "6cb16138-4bc2-478a-bfb9-4081a54e82be",
   "metadata": {},
   "source": [
    "#### Accounts\n",
    "All data stored on Solana is stored in accounts. Accounts can store:\n",
    "\n",
    "<li>SOL (Solana's native token)</li>\n",
    "<li>Other tokens, like USDC</li>\n",
    "<li>NFTs</li>\n",
    "<li>Programs</li>\n",
    "<li>Program Data</li>\n",
    "\n",
    "#### SOL\n",
    "Sol is solana's native token. It is made up of 1 billion lamports. It is used to pay transaction fees, pay rents for accounts\n",
    "\n",
    "#### Addresses\n",
    "Addresses uniquely identify accounts. Addresses are often shown as base-58 encoded strings like <i>dDCQNnDmNbFVi8cQhKAgXhyhXeJ625tvwsunRyRc7c8</i>. Most addresses on Solana are also public keys. Whoever controls the matching secret key for an address controls the account - for example, the person with the secret key can send tokens from the account."
   ]
  },
  {
   "cell_type": "markdown",
   "id": "13ce0610-3791-4954-b529-2fd7a818c2f9",
   "metadata": {},
   "source": [
    "### Reading from the Solana Blockchain"
   ]
  },
  {
   "cell_type": "markdown",
   "id": "c66edd54-2b23-4532-b40d-acebc326c25a",
   "metadata": {},
   "source": [
    "#### Connect to the Network\n",
    "\n",
    "- Every interaction with the Solana network using @solana/web3.js is going to happen through a Connection object. \n",
    "- The Connection object establishes a connection with a specific Solana network, called a 'cluster'. \n",
    "- Devnet ckuster is designed for developer use and testing, and DevNet tokens don't have real value."
   ]
  },
  {
   "cell_type": "markdown",
   "id": "ca86ba73-6097-4bb8-941f-e0fa40d8a93f",
   "metadata": {},
   "source": [
    "- create a file named get-balance.ts\n",
    "- add code something like this\n",
    "\n",
    "```javascript\n",
    "        import {Connection, PublicKey, LAMPORTS_PER_SOL} from \"@solana/web3.js\";\n",
    "\n",
    "        const publicKey = new PublicKey(\"some_public_key\");\n",
    "        const connection = new Connection(\"https://api.devnet.solana.com\", \"confirmed\")\n",
    "        const balance = await connection.getBalance(publicKey)\n",
    "        const balanceInSol = balance / LAMPORTS_PER_SOL\n",
    "\n",
    "        console.log(\"Balance of account\",publicKey,\"is \",balanceInSol)\n",
    "```\n",
    "\n",
    "- We can load devnet sol from <a href=\"https://faucet.solana.com/\">here</a>"
   ]
  }
 ],
 "metadata": {
  "kernelspec": {
   "display_name": "Python 3 (ipykernel)",
   "language": "python",
   "name": "python3"
  },
  "language_info": {
   "codemirror_mode": {
    "name": "ipython",
    "version": 3
   },
   "file_extension": ".py",
   "mimetype": "text/x-python",
   "name": "python",
   "nbconvert_exporter": "python",
   "pygments_lexer": "ipython3",
   "version": "3.10.12"
  }
 },
 "nbformat": 4,
 "nbformat_minor": 5
}
